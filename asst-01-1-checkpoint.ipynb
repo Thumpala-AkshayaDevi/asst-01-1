{
 "cells": [
  {
   "cell_type": "code",
   "execution_count": 2,
   "id": "59194b65",
   "metadata": {},
   "outputs": [
    {
     "name": "stdout",
     "output_type": "stream",
     "text": [
      "The original string is : Tutudude is the best platform to learn-1\n",
      "Count of Alphabets : 32\n"
     ]
    }
   ],
   "source": [
    "# initializing string\n",
    "test_str = 'Tutudude is the best platform to learn-1'\n",
    "# printing original string\n",
    "print(\"The original string is : \" + str(test_str))\n",
    "\n",
    "# isalpha() to computation of Alphabets\n",
    "res = len([ele for ele in test_str if ele.isalpha()])\n",
    "\n",
    "# printing result\n",
    "print(\"Count of Alphabets : \" + str(res))\n"
   ]
  },
  {
   "cell_type": "code",
   "execution_count": null,
   "id": "b51269cc",
   "metadata": {},
   "outputs": [],
   "source": []
  }
 ],
 "metadata": {
  "kernelspec": {
   "display_name": "Python 3 (ipykernel)",
   "language": "python",
   "name": "python3"
  },
  "language_info": {
   "codemirror_mode": {
    "name": "ipython",
    "version": 3
   },
   "file_extension": ".py",
   "mimetype": "text/x-python",
   "name": "python",
   "nbconvert_exporter": "python",
   "pygments_lexer": "ipython3",
   "version": "3.10.9"
  }
 },
 "nbformat": 4,
 "nbformat_minor": 5
}
